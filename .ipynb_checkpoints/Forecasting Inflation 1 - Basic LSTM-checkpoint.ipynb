{
 "cells": [
  {
   "cell_type": "markdown",
   "id": "078f4cc8-d536-4bdf-b4d5-edd7318088d2",
   "metadata": {},
   "source": [
    "# Basics of the study"
   ]
  },
  {
   "cell_type": "markdown",
   "id": "fcf47c8f-26bd-4550-87f0-d248f926d932",
   "metadata": {},
   "source": [
    "This study is based on [this article](https://machinelearningmastery.com/how-to-develop-lstm-models-for-time-series-forecasting/) from Jason Brownlee. The explanation is great and quite intuitive!"
   ]
  },
  {
   "cell_type": "markdown",
   "id": "069a7298-b2f3-42a7-a958-27a295ee06e3",
   "metadata": {},
   "source": [
    "## Importing essential libraries"
   ]
  },
  {
   "cell_type": "code",
   "execution_count": null,
   "id": "616890b0-cf3c-45fd-8a8f-dd013fbc2ab4",
   "metadata": {},
   "outputs": [],
   "source": [
    "import pandas as pd\n",
    "import numpy as np\n",
    "import matplotlib.pyplot as plt\n",
    "import tensorflow.keras as keras\n",
    "\n",
    "from sklearn.metrics import mean_squared_error, r2_score"
   ]
  },
  {
   "cell_type": "markdown",
   "id": "4d36cc69-f615-4931-8ab0-7b57ec67b3fd",
   "metadata": {},
   "source": [
    "## Importing series"
   ]
  },
  {
   "cell_type": "markdown",
   "id": "48d8b2cb-a482-4f2e-8a95-8d6db246c01e",
   "metadata": {},
   "source": [
    "### IPCA (general)  \n",
    "General IPCA stands for general extended national consumer prices index. Having an overview of it would be useful for better understanding what's in store for the models and then making some adjustments so it becomes easier to work with."
   ]
  },
  {
   "cell_type": "code",
   "execution_count": null,
   "id": "3c02057a-2a08-4c82-b34b-0044e7c42552",
   "metadata": {},
   "outputs": [],
   "source": [
    "ipca_general = pd.read_csv('Data/IPCA-general.csv', sep=';', decimal=',')\n",
    "ipca_general.columns = ['Date', 'Variation_Percentage', 'Dropme']\n",
    "ipca_general = ipca_general.drop('Dropme', axis=1)\n",
    "ipca_general = ipca_general.set_index('Date')\n",
    "print(ipca_general.info(),'\\n')\n",
    "print(ipca_general.head())"
   ]
  },
  {
   "cell_type": "code",
   "execution_count": null,
   "id": "28e7905c-eb37-40ff-9e2c-112b897dded1",
   "metadata": {},
   "outputs": [],
   "source": [
    "plt.figure(figsize=(10,5))\n",
    "plt.title('Variation percentage of Brazilian inflation across time', fontsize=10)\n",
    "plt.plot(ipca_general)\n",
    "plt.xticks(range(0,len(ipca_general),int(len(ipca_general)/33)+1), rotation=90)\n",
    "plt.show()"
   ]
  },
  {
   "cell_type": "markdown",
   "id": "d296c938-5fae-462d-b8dd-31fc2431528f",
   "metadata": {},
   "source": [
    "Percentage values scaling from 0 to 100 and beyond might not be particularly helpful for working with a machine learning model, so the series will be divided by 100."
   ]
  },
  {
   "cell_type": "code",
   "execution_count": null,
   "id": "c35072de-a9e2-46ec-b23c-d6f99b0e0c93",
   "metadata": {},
   "outputs": [],
   "source": [
    "ipca_general_raw = ipca_general.div(100)\n",
    "plt.figure(figsize=(10,5))\n",
    "plt.title('Variation tax of Brazilian inflation across time', fontsize=10)\n",
    "plt.plot(ipca_general_raw)\n",
    "plt.xticks(range(0,len(ipca_general_raw),int(len(ipca_general_raw)/33)+1), rotation=90)\n",
    "plt.show()"
   ]
  },
  {
   "cell_type": "markdown",
   "id": "118cfe09-f7f9-4d80-8cda-818c207f1544",
   "metadata": {},
   "source": [
    "Now the series can be properly worked with."
   ]
  },
  {
   "cell_type": "markdown",
   "id": "7efe211f-8ab0-4db0-9a7f-d16ed2a11fc7",
   "metadata": {},
   "source": [
    "### IPCA (food and beverages)  \n",
    "The inflation of food and beverages might behave differently from general inflation overall, so it might be interesting to analyze it as well."
   ]
  },
  {
   "cell_type": "code",
   "execution_count": null,
   "id": "62396b18-348b-460e-9706-0edd94a4b505",
   "metadata": {},
   "outputs": [],
   "source": [
    "ipca_food = pd.read_csv('Data/IPCA-food.csv', sep=';', decimal=',')\n",
    "ipca_food.columns = ['Date', 'Variation_Percentage', 'Dropme']\n",
    "ipca_food = ipca_food.drop('Dropme', axis=1)\n",
    "ipca_food = ipca_food.set_index('Date')\n",
    "print(ipca_food.info(),'\\n')\n",
    "print(ipca_food.head())"
   ]
  },
  {
   "cell_type": "markdown",
   "id": "5fe69a39-f35e-426d-b81c-bfa437bcce15",
   "metadata": {},
   "source": [
    "There's one missing value in the series, so it will be treated as the mean between the neighbor values."
   ]
  },
  {
   "cell_type": "code",
   "execution_count": null,
   "id": "74f3062b-02ba-4444-94e9-d0b1e47c29e8",
   "metadata": {},
   "outputs": [],
   "source": [
    "plt.figure(figsize=(10,5))\n",
    "plt.title('Variation percentage of Brazilian inflation for food and beverages across time', fontsize=10)\n",
    "plt.plot(ipca_food)\n",
    "plt.xticks(range(0,len(ipca_food),int(len(ipca_food)/33)+1), rotation=90)\n",
    "plt.show()"
   ]
  },
  {
   "cell_type": "markdown",
   "id": "3b5f6233-aaf8-406a-9076-616d75b4844a",
   "metadata": {},
   "source": [
    "The missing value is between 1991.06 and 1992.10, so it's important to look for it in this slice."
   ]
  },
  {
   "cell_type": "code",
   "execution_count": null,
   "id": "823091bc-22bf-47a1-825d-6623dac1e9db",
   "metadata": {},
   "outputs": [],
   "source": [
    "ipca_food['1991.06':'1992.10']"
   ]
  },
  {
   "cell_type": "code",
   "execution_count": null,
   "id": "b6a66ca9-c4c7-46a8-ae9b-60071a8d144d",
   "metadata": {},
   "outputs": [],
   "source": [
    "ipca_food_notnull = ipca_food.copy()\n",
    "ipca_food_notnull = ipca_food_notnull.fillna((12.79+37.85)/2)\n",
    "ipca_food_notnull['1991.06':'1992.10']"
   ]
  },
  {
   "cell_type": "code",
   "execution_count": null,
   "id": "8b525418-5eca-41ef-b1e8-61ae627a64b8",
   "metadata": {},
   "outputs": [],
   "source": [
    "ipca_food_raw = ipca_food_notnull.div(100)\n",
    "plt.figure(figsize=(10,5))\n",
    "plt.title('Variation tax of Brazilian inflation for food and beverages across time', fontsize=10)\n",
    "plt.plot(ipca_food_raw)\n",
    "plt.xticks(range(0,len(ipca_food_raw),int(len(ipca_food_raw)/33)+1), rotation=90)\n",
    "plt.show()"
   ]
  },
  {
   "cell_type": "markdown",
   "id": "f5d2dec6-9f93-444e-91c1-ce49a95628d2",
   "metadata": {},
   "source": [
    "### IPCA (health expenses)"
   ]
  },
  {
   "cell_type": "code",
   "execution_count": null,
   "id": "d7075541-8e03-477b-b1c0-17b365d2bb45",
   "metadata": {},
   "outputs": [],
   "source": [
    "ipca_health = pd.read_csv('Data/IPCA-health.csv', sep=';', decimal=',')\n",
    "ipca_health.columns = ['Date', 'Variation_Percentage', 'Dropme']\n",
    "ipca_health = ipca_health.drop('Dropme', axis=1)\n",
    "ipca_health = ipca_health.set_index('Date')\n",
    "print(ipca_health.info(),'\\n')\n",
    "print(ipca_health.head())"
   ]
  },
  {
   "cell_type": "code",
   "execution_count": null,
   "id": "ad0b6d3e-b327-4c43-b708-3f6d46ccad0e",
   "metadata": {},
   "outputs": [],
   "source": [
    "plt.figure(figsize=(10,5))\n",
    "plt.title('Variation percentage of Brazilian inflation for health expenses across time', fontsize=10)\n",
    "plt.plot(ipca_health)\n",
    "plt.xticks(range(0,len(ipca_health),int(len(ipca_health)/33)+1), rotation=90)\n",
    "plt.show()"
   ]
  },
  {
   "cell_type": "code",
   "execution_count": null,
   "id": "86f809cc-34f3-4ba6-859b-40fbac86045f",
   "metadata": {},
   "outputs": [],
   "source": [
    "ipca_health['1991.06':'1992.10']"
   ]
  },
  {
   "cell_type": "code",
   "execution_count": null,
   "id": "dec2f218-4fb1-473b-9eca-0793ad09b977",
   "metadata": {},
   "outputs": [],
   "source": [
    "ipca_health_notnull = ipca_health.copy()\n",
    "ipca_health_notnull = ipca_health_notnull.fillna((15.00+36.40)/2)\n",
    "ipca_health_notnull['1991.06':'1992.10']"
   ]
  },
  {
   "cell_type": "code",
   "execution_count": null,
   "id": "98142b2b-d814-44ae-a65e-274ef13a985a",
   "metadata": {},
   "outputs": [],
   "source": [
    "ipca_health_raw = ipca_health_notnull.div(100)\n",
    "plt.figure(figsize=(10,5))\n",
    "plt.title('Variation tax of Brazilian inflation for health expenses across time', fontsize=10)\n",
    "plt.plot(ipca_health_raw)\n",
    "plt.xticks(range(0,len(ipca_health_raw),int(len(ipca_health_raw)/33)+1), rotation=90)\n",
    "plt.show()"
   ]
  },
  {
   "cell_type": "markdown",
   "id": "65e68d76-d0bd-4f76-ac2b-e22532f846a5",
   "metadata": {},
   "source": [
    "# LSTM applications"
   ]
  },
  {
   "cell_type": "markdown",
   "id": "210e3f08-3cd6-4618-8d86-48c6daac9311",
   "metadata": {},
   "source": [
    "## Standard LSTM"
   ]
  },
  {
   "cell_type": "markdown",
   "id": "489ccbb0-ff6c-49da-bde9-9acf4a226342",
   "metadata": {},
   "source": [
    "### Split method and model  \n",
    "Each series must first be split in sequences of steps so they fit the LSTM format. The method used for Standard LSTM can also be used for a Stacked LSTM without any changes.  \n",
    "Since the data is in months, the model itself will use 12 timesteps, assembling a batch of one year to predict the following month."
   ]
  },
  {
   "cell_type": "code",
   "execution_count": null,
   "id": "f3359ecb-15b2-4651-a13f-fb38712c621d",
   "metadata": {},
   "outputs": [],
   "source": [
    "# The series must first be prepared to fit the type of LSTM.\n",
    "# This method can be used for both Standard and Stacked LSTMs.\n",
    "def split_standard(sequence, n_steps):\n",
    "\tX, y = list(), list()\n",
    "\tfor i in range(len(sequence)):\n",
    "\t\t# find the end of this pattern\n",
    "\t\tend_ix = i + n_steps\n",
    "\t\t# check if we are beyond the sequence\n",
    "\t\tif end_ix > len(sequence)-1:\n",
    "\t\t\tbreak\n",
    "\t\t# gather input and output parts of the pattern\n",
    "\t\tseq_x, seq_y = sequence[i:end_ix], sequence[end_ix]\n",
    "\t\tX.append(seq_x)\n",
    "\t\ty.append(seq_y)\n",
    "\treturn np.array(X), np.array(y)"
   ]
  },
  {
   "cell_type": "code",
   "execution_count": null,
   "id": "c12730ee-50d5-4d6b-9a2b-d52ebcb6738f",
   "metadata": {},
   "outputs": [],
   "source": [
    "# This model will use 12 timesteps, one for each month in a year, and a single feature.\n",
    "n_steps_std = 12\n",
    "n_features_std = 1\n",
    "\n",
    "lstm_std = keras.models.Sequential()\n",
    "lstm_std.add(keras.layers.LSTM(50, activation='relu', input_shape=(n_steps_std, n_features_std)))\n",
    "lstm_std.add(keras.layers.Dense(1))\n",
    "lstm_std.compile(optimizer='adam', loss='mse')"
   ]
  },
  {
   "cell_type": "markdown",
   "id": "56437dba-cd7d-4ed2-a455-2df869a8c3d5",
   "metadata": {},
   "source": [
    "### IPCA (general)"
   ]
  },
  {
   "cell_type": "code",
   "execution_count": null,
   "id": "9bf0fa10-50b3-4af1-b093-7451d5bd2dcb",
   "metadata": {},
   "outputs": [],
   "source": [
    "X_IPCAgen_std, y_IPCAgen_std = split_standard(np.array(ipca_general_raw), n_steps_std)\n",
    "# Reshape from [samples, timesteps] into [samples, timesteps, features]\n",
    "X_IPCAgen_std = X_IPCAgen_std.reshape((X_IPCAgen_std.shape[0], X_IPCAgen_std.shape[1], n_features_std))\n",
    "\n",
    "# Separating values in training, validation and testing\n",
    "# 70% of the series will be used for testing\n",
    "Xtrain_IPCAgen_std = X_IPCAgen_std[:int(len(X_IPCAgen_std)*0.7)]\n",
    "ytrain_IPCAgen_std = y_IPCAgen_std[:int(len(y_IPCAgen_std)*0.7)]\n",
    "# 20% of the series will be used for validation\n",
    "Xval_IPCAgen_std = X_IPCAgen_std[int(len(X_IPCAgen_std)*0.7):int(len(X_IPCAgen_std)*0.9)]\n",
    "yval_IPCAgen_std = y_IPCAgen_std[int(len(y_IPCAgen_std)*0.7):int(len(y_IPCAgen_std)*0.9)]\n",
    "# 10% of the series will be used for testing\n",
    "Xtest_IPCAgen_std = X_IPCAgen_std[int(len(X_IPCAgen_std)*0.9):]\n",
    "ytest_IPCAgen_std = y_IPCAgen_std[int(len(y_IPCAgen_std)*0.9):]"
   ]
  },
  {
   "cell_type": "code",
   "execution_count": null,
   "id": "e3c2019b-bdc7-4f9a-adc8-98cd9717b865",
   "metadata": {},
   "outputs": [],
   "source": [
    "lstm_IPCAgen_std.fit(Xtrain_IPCAgen_std, ytrain_IPCAgen_std, \n",
    "                     validation_data=(Xval_IPCAgen_std, yval_IPCAgen_std),\n",
    "                     epochs=200, verbose=1)"
   ]
  },
  {
   "cell_type": "code",
   "execution_count": null,
   "id": "2811ff02-d986-4c9f-a45c-44a4b6ec152c",
   "metadata": {},
   "outputs": [],
   "source": [
    "plt.figure(figsize=(10,5))\n",
    "plt.title('Inflation forecasting - Training set')\n",
    "plt.plot(ytrain_IPCAgen_std, color='blue', label='True')\n",
    "plt.plot(lstm_IPCAgen_std.predict(Xtrain_IPCAgen_std), color='orange', label='Predicted')\n",
    "plt.legend()\n",
    "plt.show()"
   ]
  },
  {
   "cell_type": "code",
   "execution_count": null,
   "id": "6d900717-a14b-4a37-97af-716b0172ebc5",
   "metadata": {},
   "outputs": [],
   "source": [
    "plt.figure(figsize=(10,5))\n",
    "plt.title('Inflation forecasting - Validation set')\n",
    "plt.plot(yval_IPCAgen_std, color='blue', label='True')\n",
    "plt.plot(lstm_IPCAgen_std.predict(Xval_IPCAgen_std), color='orange', label='Predicted')\n",
    "plt.legend()\n",
    "plt.show()"
   ]
  },
  {
   "cell_type": "code",
   "execution_count": null,
   "id": "b3c314d6-4c8c-4629-a6f9-378d1d1633e1",
   "metadata": {},
   "outputs": [],
   "source": [
    "plt.figure(figsize=(10,5))\n",
    "plt.title('Inflation forecasting - Test set')\n",
    "plt.plot(ytest_IPCAgen_std, color='blue', label='True')\n",
    "plt.plot(lstm_IPCAgen_std.predict(Xtest_IPCAgen_std), color='orange', label='Predicted')\n",
    "plt.legend()\n",
    "plt.show()"
   ]
  },
  {
   "cell_type": "code",
   "execution_count": null,
   "id": "b640d9bc-7017-4f10-9a4a-c9dca8c7e242",
   "metadata": {},
   "outputs": [],
   "source": [
    "plt.figure(figsize=(10,5))\n",
    "plt.title('Inflation forecasting - Full series')\n",
    "plt.plot(y_IPCAgen_std, color='blue', label='True')\n",
    "plt.plot(lstm_IPCAgen_std.predict(X_IPCAgen_std), color='orange', label='Predicted')\n",
    "plt.legend()\n",
    "plt.show()"
   ]
  },
  {
   "cell_type": "markdown",
   "id": "5d41dc53-e67b-4f81-9ad0-42fd2f984375",
   "metadata": {},
   "source": [
    "### IPCA (food)"
   ]
  },
  {
   "cell_type": "code",
   "execution_count": null,
   "id": "8ab8495a-36aa-4390-98dc-7693f31d578a",
   "metadata": {},
   "outputs": [],
   "source": [
    "X_IPCAfood_std, y_IPCAfood_std = split_standard(np.array(ipca_food_raw), n_steps_std)\n",
    "# Reshape from [samples, timesteps] into [samples, timesteps, features]\n",
    "X_IPCAfood_std = X_IPCAfood_std.reshape((X_IPCAfood_std.shape[0], X_IPCAfood_std.shape[1], n_features_std))\n",
    "\n",
    "# Separating values in training, validation and testing\n",
    "# 70% of the series will be used for testing\n",
    "Xtrain_IPCAfood_std = X_IPCAfood_std[:int(len(X_IPCAfood_std)*0.7)]\n",
    "ytrain_IPCAfood_std = y_IPCAfood_std[:int(len(y_IPCAfood_std)*0.7)]\n",
    "# 20% of the series will be used for validation\n",
    "Xval_IPCAfood_std = X_IPCAfood_std[int(len(X_IPCAfood_std)*0.7):int(len(X_IPCAfood_std)*0.9)]\n",
    "yval_IPCAfood_std = y_IPCAfood_std[int(len(y_IPCAfood_std)*0.7):int(len(y_IPCAfood_std)*0.9)]\n",
    "# 10% of the series will be used for testing\n",
    "Xtest_IPCAfood_std = X_IPCAfood_std[int(len(X_IPCAfood_std)*0.9):]\n",
    "ytest_IPCAfood_std = y_IPCAfood_std[int(len(y_IPCAfood_std)*0.9):]"
   ]
  },
  {
   "cell_type": "code",
   "execution_count": null,
   "id": "082b9aa1-5e2b-4bc0-bf25-a3ec16b5e824",
   "metadata": {},
   "outputs": [],
   "source": [
    "lstm_IPCAfood_std.fit(Xtrain_IPCAfood_std, ytrain_IPCAfood_std, \n",
    "                      validation_data=(Xval_IPCAfood_std, yval_IPCAfood_std),\n",
    "                      epochs=200, verbose=1)"
   ]
  },
  {
   "cell_type": "code",
   "execution_count": null,
   "id": "ca39cb66-b256-4eb2-a9da-3fb5a17a0584",
   "metadata": {},
   "outputs": [],
   "source": [
    "plt.figure(figsize=(10,5))\n",
    "plt.title('Food inflation forecasting - Training set')\n",
    "plt.plot(ytrain_IPCAfood_std, color='blue', label='True')\n",
    "plt.plot(lstm_IPCAfood_std.predict(Xtrain_IPCAfood_std), color='orange', label='Predicted')\n",
    "plt.legend()\n",
    "plt.show()"
   ]
  },
  {
   "cell_type": "code",
   "execution_count": null,
   "id": "07e06e25-8386-47af-9e00-64e154e1c8ce",
   "metadata": {},
   "outputs": [],
   "source": [
    "plt.figure(figsize=(10,5))\n",
    "plt.title('Food inflation forecasting - Validation set')\n",
    "plt.plot(yval_IPCAfood_std, color='blue', label='True')\n",
    "plt.plot(lstm_IPCAfood_std.predict(Xval_IPCAfood_std), color='orange', label='Predicted')\n",
    "plt.legend()\n",
    "plt.show()"
   ]
  },
  {
   "cell_type": "code",
   "execution_count": null,
   "id": "c31da7a1-c48a-447d-8125-4c887ac62460",
   "metadata": {},
   "outputs": [],
   "source": [
    "plt.figure(figsize=(10,5))\n",
    "plt.title('Food inflation forecasting - Testing set')\n",
    "plt.plot(ytest_IPCAfood_std, color='blue', label='True')\n",
    "plt.plot(lstm_IPCAfood_std.predict(Xtest_IPCAfood_std), color='orange', label='Predicted')\n",
    "plt.legend()\n",
    "plt.show()"
   ]
  },
  {
   "cell_type": "code",
   "execution_count": null,
   "id": "f44be833-c094-4f87-b9f1-b6e964f809e7",
   "metadata": {},
   "outputs": [],
   "source": [
    "plt.figure(figsize=(10,5))\n",
    "plt.title('Food inflation forecasting - Full series')\n",
    "plt.plot(y_IPCAfood_std, color='blue', label='True')\n",
    "plt.plot(lstm_IPCAfood_std.predict(X_IPCAfood_std), color='orange', label='Predicted')\n",
    "plt.legend()\n",
    "plt.show()"
   ]
  },
  {
   "cell_type": "markdown",
   "id": "f8e4606e-65de-44d2-a2bc-815e22073080",
   "metadata": {},
   "source": [
    "### IPCA (health)"
   ]
  },
  {
   "cell_type": "code",
   "execution_count": null,
   "id": "83859d15-9eac-4d41-ab8d-771273d1d0df",
   "metadata": {},
   "outputs": [],
   "source": [
    "X_IPCAhlth_std, y_IPCAhlth_std = split_standard(np.array(ipca_health_raw), n_steps_std)\n",
    "# Reshape from [samples, timesteps] into [samples, timesteps, features]\n",
    "X_IPCAhlth_std = X_IPCAhlth_std.reshape((X_IPCAhlth_std.shape[0], X_IPCAhlth_std.shape[1], n_features_std))\n",
    "\n",
    "# Separating values in training, validation and testing\n",
    "# 70% of the series will be used for testing\n",
    "Xtrain_IPCAhlth_std = X_IPCAhlth_std[:int(len(X_IPCAhlth_std)*0.7)]\n",
    "ytrain_IPCAhlth_std = y_IPCAhlth_std[:int(len(y_IPCAhlth_std)*0.7)]\n",
    "# 20% of the series will be used for validation\n",
    "Xval_IPCAhlth_std = X_IPCAhlth_std[int(len(X_IPCAhlth_std)*0.7):int(len(X_IPCAhlth_std)*0.9)]\n",
    "yval_IPCAhlth_std = y_IPCAhlth_std[int(len(y_IPCAhlth_std)*0.7):int(len(y_IPCAhlth_std)*0.9)]\n",
    "# 10% of the series will be used for testing\n",
    "Xtest_IPCAhlth_std = X_IPCAhlth_std[int(len(X_IPCAhlth_std)*0.9):]\n",
    "ytest_IPCAhlth_std = y_IPCAhlth_std[int(len(y_IPCAhlth_std)*0.9):]"
   ]
  },
  {
   "cell_type": "code",
   "execution_count": null,
   "id": "e34850bd-170f-4d28-af7a-3ebf894e8030",
   "metadata": {},
   "outputs": [],
   "source": [
    "lstm_IPCAhlth_std.fit(Xtrain_IPCAhlth_std, ytrain_IPCAhlth_std, \n",
    "                      validation_data=(Xval_IPCAhlth_std, yval_IPCAhlth_std),\n",
    "                      epochs=200, verbose=1)"
   ]
  },
  {
   "cell_type": "code",
   "execution_count": null,
   "id": "bc23d6bf-cd4d-4e58-a92c-8ebf20eec3d0",
   "metadata": {},
   "outputs": [],
   "source": [
    "plt.figure(figsize=(10,5))\n",
    "plt.title('Health inflation forecasting - Training set')\n",
    "plt.plot(ytrain_IPCAhlth_std, color='blue', label='True')\n",
    "plt.plot(lstm_IPCAhlth_std.predict(Xtrain_IPCAhlth_std), color='orange', label='Predicted')\n",
    "plt.legend()\n",
    "plt.show()"
   ]
  },
  {
   "cell_type": "code",
   "execution_count": null,
   "id": "421073a8-797e-41f0-8dc0-f744bd0dc8fd",
   "metadata": {},
   "outputs": [],
   "source": [
    "plt.figure(figsize=(10,5))\n",
    "plt.title('Health inflation forecasting - Validation set')\n",
    "plt.plot(yval_IPCAhlth_std, color='blue', label='True')\n",
    "plt.plot(lstm_IPCAhlth_std.predict(Xval_IPCAhlth_std), color='orange', label='Predicted')\n",
    "plt.legend()\n",
    "plt.show()"
   ]
  },
  {
   "cell_type": "code",
   "execution_count": null,
   "id": "0147fcf4-3e96-4d03-a74d-66d54988a931",
   "metadata": {},
   "outputs": [],
   "source": [
    "plt.figure(figsize=(10,5))\n",
    "plt.title('Health inflation forecasting - Testing set')\n",
    "plt.plot(yval_IPCAhlth_std, color='blue', label='True')\n",
    "plt.plot(lstm_IPCAhlth_std.predict(Xval_IPCAhlth_std), color='orange', label='Predicted')\n",
    "plt.legend()\n",
    "plt.show()"
   ]
  },
  {
   "cell_type": "code",
   "execution_count": null,
   "id": "8ac1c370-e569-4b80-b38a-8fa8d65b6bef",
   "metadata": {},
   "outputs": [],
   "source": [
    "plt.figure(figsize=(10,5))\n",
    "plt.title('Health inflation forecasting - Full series')\n",
    "plt.plot(y_IPCAhlth_std, color='blue', label='True')\n",
    "plt.plot(lstm_IPCAhlth_std.predict(X_IPCAhlth_std), color='orange', label='Predicted')\n",
    "plt.legend()\n",
    "plt.show()"
   ]
  },
  {
   "cell_type": "markdown",
   "id": "e86a3288-516e-4eec-9ed3-d275fbcf41d1",
   "metadata": {},
   "source": [
    "## Stacked LSTM"
   ]
  },
  {
   "cell_type": "markdown",
   "id": "351a9f9b-fd6c-429e-abfa-81316f27873d",
   "metadata": {},
   "source": [
    "### IPCA (general)"
   ]
  },
  {
   "cell_type": "code",
   "execution_count": null,
   "id": "da6fef8f-4f87-42ae-9895-9e199427a17a",
   "metadata": {},
   "outputs": [],
   "source": []
  },
  {
   "cell_type": "markdown",
   "id": "14c56588-1060-4050-b3bc-935edf52d8b9",
   "metadata": {},
   "source": [
    "## CNN LSTM"
   ]
  },
  {
   "cell_type": "markdown",
   "id": "c160c2ad-9050-4997-909d-ef71a09b4b61",
   "metadata": {},
   "source": [
    "### IPCA (general)"
   ]
  },
  {
   "cell_type": "code",
   "execution_count": null,
   "id": "6b254a9e-b62c-458d-af54-e1585fa9897e",
   "metadata": {},
   "outputs": [],
   "source": []
  }
 ],
 "metadata": {
  "kernelspec": {
   "display_name": "Python 3 (ipykernel)",
   "language": "python",
   "name": "python3"
  },
  "language_info": {
   "codemirror_mode": {
    "name": "ipython",
    "version": 3
   },
   "file_extension": ".py",
   "mimetype": "text/x-python",
   "name": "python",
   "nbconvert_exporter": "python",
   "pygments_lexer": "ipython3",
   "version": "3.9.18"
  }
 },
 "nbformat": 4,
 "nbformat_minor": 5
}
